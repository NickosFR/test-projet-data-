{
 "cells": [
  {
   "cell_type": "code",
   "execution_count": null,
   "metadata": {},
   "outputs": [],
   "source": [
    "import spacy\n",
    "from spacy import displacy\n",
    "\n",
    "import pandas as pd\n",
    "df=pd.read_csv(\"Emails.csv\")\n",
    "filtre=df[df.ExtractedSubject.notna()]\n",
    "chaine=[]\n",
    "for i in filtre.ExtractedSubject:\n",
    "    chaine.append(i)\n",
    "texte=\" \".join(chaine)\n",
    "\n",
    "nlp = spacy.load(\"texte\")\n",
    "#nlp.max_length = len(texte)\n",
    "print(len(texte))\n",
    "#nlp = spacy.load('fr')\n",
    "#texte = texte.lower()\n",
    "doc = nlp(texte[:1000000])\n",
    "#doc = nlp(texte)\n",
    "#print('Name Entity: {0}'.format(doc.ents))\n",
    "ents = [(e.text, e.label_, e.kb_id_) for e in doc.ents]\n",
    " \n",
    "import  numpy as np\n",
    "import pandas as pd\n",
    "df_ents = pd.DataFrame(ents, columns = ['Entity','Type','Id'])\n",
    "df_ents = df_ents.drop('Id', axis=1)\n",
    "print (df_ents)\n",
    "df1 = df_ents[(df_ents['Type'] =='GPE') | (df_ents['Type'] =='ORG')]\n",
    "df1['Entity'].value_counts().head(50)"
   ]
  }
 ],
 "metadata": {
  "kernelspec": {
   "display_name": "Python 3",
   "language": "python",
   "name": "python3"
  },
  "language_info": {
   "codemirror_mode": {
    "name": "ipython",
    "version": 3
   },
   "file_extension": ".py",
   "mimetype": "text/x-python",
   "name": "python",
   "nbconvert_exporter": "python",
   "pygments_lexer": "ipython3",
   "version": "3.7.4"
  }
 },
 "nbformat": 4,
 "nbformat_minor": 2
}
